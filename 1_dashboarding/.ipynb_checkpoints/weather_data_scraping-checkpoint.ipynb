{
 "cells": [
  {
   "cell_type": "code",
   "execution_count": 1,
   "id": "0437396c",
   "metadata": {},
   "outputs": [
    {
     "data": {
      "text/html": [
       "<style>.container { width:90% !important; }</style>"
      ],
      "text/plain": [
       "<IPython.core.display.HTML object>"
      ]
     },
     "metadata": {},
     "output_type": "display_data"
    }
   ],
   "source": [
    "from IPython.display import display, HTML\n",
    "display(HTML(\"<style>.container { width:90% !important; }</style>\"))\n",
    "import os\n",
    "%load_ext autoreload\n",
    "%autoreload 2"
   ]
  },
  {
   "cell_type": "code",
   "execution_count": 2,
   "id": "664c9478",
   "metadata": {},
   "outputs": [
    {
     "data": {
      "text/plain": [
       "RendererRegistry.enable('default')"
      ]
     },
     "execution_count": 2,
     "metadata": {},
     "output_type": "execute_result"
    }
   ],
   "source": [
    "import warnings\n",
    "import numpy as np\n",
    "import pandas as pd\n",
    "import yaml\n",
    "import altair as alt\n",
    "import matplotlib.pyplot as plt\n",
    "plt.style.use('bmh')\n",
    "\n",
    "alt.renderers.enable('default')"
   ]
  },
  {
   "cell_type": "code",
   "execution_count": 4,
   "id": "d26bba26",
   "metadata": {},
   "outputs": [
    {
     "name": "stdout",
     "output_type": "stream",
     "text": [
      "\u001b[34mhelper_scripts\u001b[m\u001b[m              weather_data_api.ipynb\r\n",
      "temp.csv                    weather_data_scraping.ipynb\r\n",
      "temp.pkl\r\n"
     ]
    }
   ],
   "source": [
    "!ls"
   ]
  },
  {
   "cell_type": "markdown",
   "id": "174111a6",
   "metadata": {},
   "source": [
    "# 0) City IDs"
   ]
  },
  {
   "cell_type": "code",
   "execution_count": 205,
   "id": "be1b560d",
   "metadata": {},
   "outputs": [
    {
     "name": "stdout",
     "output_type": "stream",
     "text": [
      "(11731, 5)\n"
     ]
    },
    {
     "data": {
      "text/html": [
       "<div>\n",
       "<style scoped>\n",
       "    .dataframe tbody tr th:only-of-type {\n",
       "        vertical-align: middle;\n",
       "    }\n",
       "\n",
       "    .dataframe tbody tr th {\n",
       "        vertical-align: top;\n",
       "    }\n",
       "\n",
       "    .dataframe thead th {\n",
       "        text-align: right;\n",
       "    }\n",
       "</style>\n",
       "<table border=\"1\" class=\"dataframe\">\n",
       "  <thead>\n",
       "    <tr style=\"text-align: right;\">\n",
       "      <th></th>\n",
       "      <th>id</th>\n",
       "      <th>nm</th>\n",
       "      <th>lat</th>\n",
       "      <th>lon</th>\n",
       "      <th>countryCode</th>\n",
       "    </tr>\n",
       "  </thead>\n",
       "  <tbody>\n",
       "    <tr>\n",
       "      <th>0</th>\n",
       "      <td>7262440</td>\n",
       "      <td>Valencia West</td>\n",
       "      <td>32.132381</td>\n",
       "      <td>-111.114143</td>\n",
       "      <td>US</td>\n",
       "    </tr>\n",
       "    <tr>\n",
       "      <th>1</th>\n",
       "      <td>5495380</td>\n",
       "      <td>Tularosa</td>\n",
       "      <td>33.073971</td>\n",
       "      <td>-106.018600</td>\n",
       "      <td>US</td>\n",
       "    </tr>\n",
       "  </tbody>\n",
       "</table>\n",
       "</div>"
      ],
      "text/plain": [
       "        id             nm        lat         lon countryCode\n",
       "0  7262440  Valencia West  32.132381 -111.114143          US\n",
       "1  5495380       Tularosa  33.073971 -106.018600          US"
      ]
     },
     "execution_count": 205,
     "metadata": {},
     "output_type": "execute_result"
    }
   ],
   "source": [
    "city_data = pd.read_csv('../datasets/weather/city_ids.csv', sep='\\t')\n",
    "us_city_data = city_data[city_data.countryCode=='US'].reset_index(drop=True).copy()\n",
    "#us_city_data_final = us_city_data.groupby(['nm']).agg({'id': 'first'}).reset_index().copy()\n",
    "print(us_city_data.shape)\n",
    "us_city_data.head(2)"
   ]
  },
  {
   "cell_type": "code",
   "execution_count": 274,
   "id": "629a255d",
   "metadata": {},
   "outputs": [],
   "source": [
    "from geopy.geocoders import Photon\n",
    "from geopy.exc import GeocoderUnavailable, GeocoderTimedOut\n",
    "\n",
    "def get_location_details(row: pd.Series, pause_duration: float) -> pd.Series:\n",
    "    \n",
    "    try:\n",
    "        coord = f\"{row['lat']}, {row['lon']}\"\n",
    "        \n",
    "        location = geolocator.reverse(coord, exactly_one=True, limit=1, timeout=pause_duration)\n",
    "\n",
    "        if location:\n",
    "            address = location.raw.get('properties', {})\n",
    "            city = address.get('city') or address.get('town') or address.get('village') or address.get('district')    \n",
    "            state = address.get('state')\n",
    "            zipcode = address.get('postcode')\n",
    "        else:\n",
    "            city = None\n",
    "            state = None\n",
    "            zipcode = None\n",
    "        return pd.Series([location, city, state, zipcode])\n",
    "    except (GeocoderUnavailable, GeocoderTimedOut) as e:\n",
    "        location = None\n",
    "        city = None\n",
    "        state = None\n",
    "        zipcode = None\n",
    "        return pd.Series([location, city, state, zipcode])\n",
    "    finally:\n",
    "        time.sleep(pause_duration)"
   ]
  },
  {
   "cell_type": "code",
   "execution_count": 286,
   "id": "f89381f9",
   "metadata": {},
   "outputs": [
    {
     "name": "stdout",
     "output_type": "stream",
     "text": [
      "(11731, 5)\n"
     ]
    }
   ],
   "source": [
    "from geopy.extra.rate_limiter import RateLimiter\n",
    "geolocator = Nominatim(user_agent=\"Nancy Amandi\", timeout=10) \n",
    "rgeocode = RateLimiter(geolocator.reverse, min_delay_seconds=0.1)\n",
    "\n",
    "temp = us_city_data.copy()\n",
    "print(temp.shape)\n",
    "temp['coordinates'] = temp.apply(lambda x: str(x.lat) + \", \" + str(x.lon), axis=1)"
   ]
  },
  {
   "cell_type": "code",
   "execution_count": null,
   "id": "1e73203e",
   "metadata": {},
   "outputs": [],
   "source": [
    "%%time\n",
    "temp['location'] = temp[\"coordinates\"].apply(rgeocode)"
   ]
  },
  {
   "cell_type": "code",
   "execution_count": 5,
   "id": "d7ca5ed9",
   "metadata": {},
   "outputs": [
    {
     "data": {
      "text/html": [
       "<div>\n",
       "<style scoped>\n",
       "    .dataframe tbody tr th:only-of-type {\n",
       "        vertical-align: middle;\n",
       "    }\n",
       "\n",
       "    .dataframe tbody tr th {\n",
       "        vertical-align: top;\n",
       "    }\n",
       "\n",
       "    .dataframe thead th {\n",
       "        text-align: right;\n",
       "    }\n",
       "</style>\n",
       "<table border=\"1\" class=\"dataframe\">\n",
       "  <thead>\n",
       "    <tr style=\"text-align: right;\">\n",
       "      <th></th>\n",
       "      <th>id</th>\n",
       "      <th>nm</th>\n",
       "      <th>lat</th>\n",
       "      <th>lon</th>\n",
       "      <th>countryCode</th>\n",
       "      <th>coordinates</th>\n",
       "      <th>location</th>\n",
       "    </tr>\n",
       "  </thead>\n",
       "  <tbody>\n",
       "    <tr>\n",
       "      <th>0</th>\n",
       "      <td>7262440</td>\n",
       "      <td>Valencia West</td>\n",
       "      <td>32.132381</td>\n",
       "      <td>-111.114143</td>\n",
       "      <td>US</td>\n",
       "      <td>32.132381, -111.114143</td>\n",
       "      <td>(West Valencia Road, Valencia West, Pima Count...</td>\n",
       "    </tr>\n",
       "    <tr>\n",
       "      <th>1</th>\n",
       "      <td>5495380</td>\n",
       "      <td>Tularosa</td>\n",
       "      <td>33.073971</td>\n",
       "      <td>-106.018600</td>\n",
       "      <td>US</td>\n",
       "      <td>33.073971, -106.0186</td>\n",
       "      <td>(801, Saint Francis Drive, Tularosa, Otero Cou...</td>\n",
       "    </tr>\n",
       "    <tr>\n",
       "      <th>2</th>\n",
       "      <td>5301442</td>\n",
       "      <td>Lake of the Woods</td>\n",
       "      <td>34.163929</td>\n",
       "      <td>-109.989548</td>\n",
       "      <td>US</td>\n",
       "      <td>34.163929, -109.989548</td>\n",
       "      <td>(3120, West White Mountain Boulevard, Lakeside...</td>\n",
       "    </tr>\n",
       "    <tr>\n",
       "      <th>3</th>\n",
       "      <td>4190542</td>\n",
       "      <td>Dahlonega</td>\n",
       "      <td>34.532589</td>\n",
       "      <td>-83.984909</td>\n",
       "      <td>US</td>\n",
       "      <td>34.532589, -83.984909</td>\n",
       "      <td>(Dahloenga Historic Gold Meusem, Public Square...</td>\n",
       "    </tr>\n",
       "    <tr>\n",
       "      <th>4</th>\n",
       "      <td>5322400</td>\n",
       "      <td>Adelanto</td>\n",
       "      <td>34.582771</td>\n",
       "      <td>-117.409218</td>\n",
       "      <td>US</td>\n",
       "      <td>34.582771, -117.409218</td>\n",
       "      <td>(11715, Lee Avenue, Adelanto, San Bernardino C...</td>\n",
       "    </tr>\n",
       "    <tr>\n",
       "      <th>...</th>\n",
       "      <td>...</td>\n",
       "      <td>...</td>\n",
       "      <td>...</td>\n",
       "      <td>...</td>\n",
       "      <td>...</td>\n",
       "      <td>...</td>\n",
       "      <td>...</td>\n",
       "    </tr>\n",
       "    <tr>\n",
       "      <th>11726</th>\n",
       "      <td>7262905</td>\n",
       "      <td>Lakes</td>\n",
       "      <td>61.607121</td>\n",
       "      <td>-149.308609</td>\n",
       "      <td>US</td>\n",
       "      <td>61.607121, -149.308609</td>\n",
       "      <td>(5699, East Rosebud Court, Cottonwood Shires, ...</td>\n",
       "    </tr>\n",
       "    <tr>\n",
       "      <th>11727</th>\n",
       "      <td>7728581</td>\n",
       "      <td>Shorewood Forest</td>\n",
       "      <td>41.463150</td>\n",
       "      <td>-87.144722</td>\n",
       "      <td>US</td>\n",
       "      <td>41.46315, -87.144722</td>\n",
       "      <td>(370, Shorewood Court, Valparaiso, Porter Coun...</td>\n",
       "    </tr>\n",
       "    <tr>\n",
       "      <th>11728</th>\n",
       "      <td>7728582</td>\n",
       "      <td>Woodlake</td>\n",
       "      <td>37.421059</td>\n",
       "      <td>-77.679314</td>\n",
       "      <td>US</td>\n",
       "      <td>37.421059, -77.679314</td>\n",
       "      <td>(Silver Birch Lane, Silver Birch, Woodlake, Ch...</td>\n",
       "    </tr>\n",
       "    <tr>\n",
       "      <th>11729</th>\n",
       "      <td>7729502</td>\n",
       "      <td>Doe Valley</td>\n",
       "      <td>37.956650</td>\n",
       "      <td>-86.116531</td>\n",
       "      <td>US</td>\n",
       "      <td>37.95665, -86.116531</td>\n",
       "      <td>(Doe Valley West Drive, Meade County, Kentucky...</td>\n",
       "    </tr>\n",
       "    <tr>\n",
       "      <th>11730</th>\n",
       "      <td>8260172</td>\n",
       "      <td>West Greenwich</td>\n",
       "      <td>41.637001</td>\n",
       "      <td>-71.660042</td>\n",
       "      <td>US</td>\n",
       "      <td>41.637001, -71.660042</td>\n",
       "      <td>(West Greenwich, Kent County, Rhode Island, 02...</td>\n",
       "    </tr>\n",
       "  </tbody>\n",
       "</table>\n",
       "<p>11731 rows × 7 columns</p>\n",
       "</div>"
      ],
      "text/plain": [
       "            id                 nm        lat         lon countryCode  \\\n",
       "0      7262440      Valencia West  32.132381 -111.114143          US   \n",
       "1      5495380           Tularosa  33.073971 -106.018600          US   \n",
       "2      5301442  Lake of the Woods  34.163929 -109.989548          US   \n",
       "3      4190542          Dahlonega  34.532589  -83.984909          US   \n",
       "4      5322400           Adelanto  34.582771 -117.409218          US   \n",
       "...        ...                ...        ...         ...         ...   \n",
       "11726  7262905              Lakes  61.607121 -149.308609          US   \n",
       "11727  7728581   Shorewood Forest  41.463150  -87.144722          US   \n",
       "11728  7728582           Woodlake  37.421059  -77.679314          US   \n",
       "11729  7729502         Doe Valley  37.956650  -86.116531          US   \n",
       "11730  8260172     West Greenwich  41.637001  -71.660042          US   \n",
       "\n",
       "                  coordinates  \\\n",
       "0      32.132381, -111.114143   \n",
       "1        33.073971, -106.0186   \n",
       "2      34.163929, -109.989548   \n",
       "3       34.532589, -83.984909   \n",
       "4      34.582771, -117.409218   \n",
       "...                       ...   \n",
       "11726  61.607121, -149.308609   \n",
       "11727    41.46315, -87.144722   \n",
       "11728   37.421059, -77.679314   \n",
       "11729    37.95665, -86.116531   \n",
       "11730   41.637001, -71.660042   \n",
       "\n",
       "                                                location  \n",
       "0      (West Valencia Road, Valencia West, Pima Count...  \n",
       "1      (801, Saint Francis Drive, Tularosa, Otero Cou...  \n",
       "2      (3120, West White Mountain Boulevard, Lakeside...  \n",
       "3      (Dahloenga Historic Gold Meusem, Public Square...  \n",
       "4      (11715, Lee Avenue, Adelanto, San Bernardino C...  \n",
       "...                                                  ...  \n",
       "11726  (5699, East Rosebud Court, Cottonwood Shires, ...  \n",
       "11727  (370, Shorewood Court, Valparaiso, Porter Coun...  \n",
       "11728  (Silver Birch Lane, Silver Birch, Woodlake, Ch...  \n",
       "11729  (Doe Valley West Drive, Meade County, Kentucky...  \n",
       "11730  (West Greenwich, Kent County, Rhode Island, 02...  \n",
       "\n",
       "[11731 rows x 7 columns]"
      ]
     },
     "execution_count": 5,
     "metadata": {},
     "output_type": "execute_result"
    }
   ],
   "source": [
    "test = pd.read_pickle('temp.pkl')\n",
    "test.head(2)"
   ]
  },
  {
   "cell_type": "code",
   "execution_count": null,
   "id": "a6e99b06",
   "metadata": {},
   "outputs": [],
   "source": []
  },
  {
   "cell_type": "code",
   "execution_count": null,
   "id": "70214a20",
   "metadata": {},
   "outputs": [],
   "source": []
  },
  {
   "cell_type": "code",
   "execution_count": null,
   "id": "b15ff200",
   "metadata": {},
   "outputs": [],
   "source": []
  },
  {
   "cell_type": "markdown",
   "id": "77f175d8",
   "metadata": {},
   "source": [
    "# 1) Get Site Data"
   ]
  },
  {
   "cell_type": "code",
   "execution_count": null,
   "id": "13b71322",
   "metadata": {},
   "outputs": [],
   "source": [
    "import sys\n",
    "sys.path.append('helper_scripts/')\n",
    "import weather_scraping_helper"
   ]
  },
  {
   "cell_type": "code",
   "execution_count": 3,
   "id": "ac5da110",
   "metadata": {},
   "outputs": [
    {
     "data": {
      "text/plain": [
       "'https://openweathermap.org/city/4140963'"
      ]
     },
     "execution_count": 3,
     "metadata": {},
     "output_type": "execute_result"
    }
   ],
   "source": [
    "city_id = '4140963'\n",
    "url = f'https://openweathermap.org/city/{city_id}'\n",
    "url"
   ]
  },
  {
   "cell_type": "code",
   "execution_count": 4,
   "id": "9aa80567",
   "metadata": {},
   "outputs": [],
   "source": [
    "from selenium import webdriver\n",
    "from selenium.webdriver.common.keys import Keys\n",
    "from webdriver_manager.chrome import ChromeDriverManager"
   ]
  },
  {
   "cell_type": "code",
   "execution_count": 169,
   "id": "838fab9b",
   "metadata": {
    "scrolled": true
   },
   "outputs": [
    {
     "data": {
      "text/plain": [
       "<selenium.webdriver.chrome.webdriver.WebDriver (session=\"7b136c9db92288909db4df83aa5fc11d\")>"
      ]
     },
     "execution_count": 169,
     "metadata": {},
     "output_type": "execute_result"
    }
   ],
   "source": [
    "#path_to_drive = '../../../Downloads/chromedriver_mac64/chromedriver'\n",
    "loc_to_drive = ChromeDriverManager().install()\n",
    "cService = webdriver.ChromeService(loc_to_drive)\n",
    "driver = webdriver.Chrome(service = cService)\n",
    "driver"
   ]
  },
  {
   "cell_type": "code",
   "execution_count": 170,
   "id": "37c93aa2",
   "metadata": {
    "scrolled": true
   },
   "outputs": [],
   "source": [
    "dc_id = \"4140963\"\n",
    "miami_id = \"4164138\"\n",
    "stowe_id = \"5214449\"\n",
    "driver.get(f\"https://openweathermap.org/city/{dc_id}\");"
   ]
  },
  {
   "cell_type": "code",
   "execution_count": null,
   "id": "0b348ee9",
   "metadata": {},
   "outputs": [],
   "source": [
    "# enter city id\n",
    "# choose temperature unit and update the site\n",
    "# get current temperature\n",
    "# weather alert\n",
    "# get 8-day forecast\n",
    "# get if there's precipitation"
   ]
  },
  {
   "cell_type": "code",
   "execution_count": 165,
   "id": "14d5f15b",
   "metadata": {},
   "outputs": [
    {
     "data": {
      "text/html": [
       "<div>\n",
       "<style scoped>\n",
       "    .dataframe tbody tr th:only-of-type {\n",
       "        vertical-align: middle;\n",
       "    }\n",
       "\n",
       "    .dataframe tbody tr th {\n",
       "        vertical-align: top;\n",
       "    }\n",
       "\n",
       "    .dataframe thead th {\n",
       "        text-align: right;\n",
       "    }\n",
       "</style>\n",
       "<table border=\"1\" class=\"dataframe\">\n",
       "  <thead>\n",
       "    <tr style=\"text-align: right;\">\n",
       "      <th></th>\n",
       "      <th>day</th>\n",
       "      <th>day_date</th>\n",
       "      <th>temp</th>\n",
       "      <th>rain_cloud_pred</th>\n",
       "    </tr>\n",
       "  </thead>\n",
       "  <tbody>\n",
       "    <tr>\n",
       "      <th>0</th>\n",
       "      <td>1</td>\n",
       "      <td>Tue, Sep 24</td>\n",
       "      <td>22 / 14°C</td>\n",
       "      <td>overcast clouds</td>\n",
       "    </tr>\n",
       "    <tr>\n",
       "      <th>1</th>\n",
       "      <td>2</td>\n",
       "      <td>Wed, Sep 25</td>\n",
       "      <td>21 / 16°C</td>\n",
       "      <td>moderate rain</td>\n",
       "    </tr>\n",
       "    <tr>\n",
       "      <th>2</th>\n",
       "      <td>3</td>\n",
       "      <td>Thu, Sep 26</td>\n",
       "      <td>26 / 19°C</td>\n",
       "      <td>moderate rain</td>\n",
       "    </tr>\n",
       "    <tr>\n",
       "      <th>3</th>\n",
       "      <td>4</td>\n",
       "      <td>Fri, Sep 27</td>\n",
       "      <td>23 / 17°C</td>\n",
       "      <td>light rain</td>\n",
       "    </tr>\n",
       "    <tr>\n",
       "      <th>4</th>\n",
       "      <td>5</td>\n",
       "      <td>Sat, Sep 28</td>\n",
       "      <td>25 / 15°C</td>\n",
       "      <td>overcast clouds</td>\n",
       "    </tr>\n",
       "    <tr>\n",
       "      <th>5</th>\n",
       "      <td>6</td>\n",
       "      <td>Sun, Sep 29</td>\n",
       "      <td>25 / 13°C</td>\n",
       "      <td>clear sky</td>\n",
       "    </tr>\n",
       "    <tr>\n",
       "      <th>6</th>\n",
       "      <td>7</td>\n",
       "      <td>Mon, Sep 30</td>\n",
       "      <td>24 / 14°C</td>\n",
       "      <td>overcast clouds</td>\n",
       "    </tr>\n",
       "    <tr>\n",
       "      <th>7</th>\n",
       "      <td>8</td>\n",
       "      <td>Tue, Oct 01</td>\n",
       "      <td>21 / 14°C</td>\n",
       "      <td>light rain</td>\n",
       "    </tr>\n",
       "  </tbody>\n",
       "</table>\n",
       "</div>"
      ],
      "text/plain": [
       "   day     day_date       temp  rain_cloud_pred\n",
       "0    1  Tue, Sep 24  22 / 14°C  overcast clouds\n",
       "1    2  Wed, Sep 25  21 / 16°C    moderate rain\n",
       "2    3  Thu, Sep 26  26 / 19°C    moderate rain\n",
       "3    4  Fri, Sep 27  23 / 17°C       light rain\n",
       "4    5  Sat, Sep 28  25 / 15°C  overcast clouds\n",
       "5    6  Sun, Sep 29  25 / 13°C        clear sky\n",
       "6    7  Mon, Sep 30  24 / 14°C  overcast clouds\n",
       "7    8  Tue, Oct 01  21 / 14°C       light rain"
      ]
     },
     "execution_count": 165,
     "metadata": {},
     "output_type": "execute_result"
    }
   ],
   "source": [
    "df = weather_scraping_helper.get_8_day_forecast(driver)\n",
    "df"
   ]
  },
  {
   "cell_type": "code",
   "execution_count": null,
   "id": "70ef503c",
   "metadata": {},
   "outputs": [],
   "source": [
    "get_precipitation_information(driver)"
   ]
  },
  {
   "cell_type": "code",
   "execution_count": 177,
   "id": "235ea7c7",
   "metadata": {},
   "outputs": [
    {
     "data": {
      "text/plain": [
       "<selenium.webdriver.remote.webelement.WebElement (session=\"7b136c9db92288909db4df83aa5fc11d\", element=\"f.605C8024AB7665203D0CACCE20E47950.d.BD445B6CB2182EA45BDDF894020C2C11.e.26\")>"
      ]
     },
     "execution_count": 177,
     "metadata": {},
     "output_type": "execute_result"
    }
   ],
   "source": [
    "color_scale_path = \"/html/body/main/div[2]/div[3]/div[1]/div[2]/div/a/div/div/div[2]/ul\"\n",
    "color_scale = driver.find_element(\"xpath\", color_scale_path)\n",
    "color_scale"
   ]
  },
  {
   "cell_type": "code",
   "execution_count": 142,
   "id": "06330603",
   "metadata": {},
   "outputs": [
    {
     "name": "stdout",
     "output_type": "stream",
     "text": [
      "(181, 254, 225) 1.0\n",
      "(100, 252, 191) 1.0\n",
      "(0, 250, 150) 1.0\n",
      "(0, 250, 100) 1.0\n",
      "(0, 250, 100) 1.0\n",
      "(0, 230, 0) 1.0\n",
      "(0, 211, 0) 1.0\n",
      "(0, 211, 0) 1.0\n",
      "(0, 186, 0) 1.0\n",
      "(0, 186, 0) 1.0\n",
      "(0, 211, 0) 1.0\n",
      "(0, 211, 0) 1.0\n",
      "(0, 250, 100) 1.0\n",
      "(0, 250, 150) 1.0\n",
      "(72, 72, 74) 0.33\n",
      "(72, 72, 74) 0.33\n",
      "(72, 72, 74) 0.33\n",
      "(72, 72, 74) 0.33\n",
      "(72, 72, 74) 0.33\n",
      "(72, 72, 74) 0.33\n",
      "(72, 72, 74) 0.33\n",
      "(72, 72, 74) 0.33\n",
      "(72, 72, 74) 0.33\n",
      "(72, 72, 74) 0.33\n",
      "(72, 72, 74) 0.33\n",
      "(72, 72, 74) 0.33\n",
      "(72, 72, 74) 0.33\n",
      "(72, 72, 74) 0.33\n",
      "(72, 72, 74) 0.33\n",
      "(72, 72, 74) 0.33\n",
      "(72, 72, 74) 0.33\n",
      "(72, 72, 74) 0.33\n",
      "(72, 72, 74) 0.33\n",
      "(72, 72, 74) 0.33\n",
      "(72, 72, 74) 0.33\n",
      "(72, 72, 74) 0.33\n",
      "(72, 72, 74) 0.33\n",
      "(72, 72, 74) 0.33\n",
      "(72, 72, 74) 0.33\n",
      "(72, 72, 74) 0.33\n",
      "(72, 72, 74) 0.33\n",
      "(72, 72, 74) 0.33\n",
      "(72, 72, 74) 0.33\n",
      "(72, 72, 74) 0.33\n",
      "(72, 72, 74) 0.33\n",
      "(72, 72, 74) 0.33\n",
      "(72, 72, 74) 0.33\n",
      "(72, 72, 74) 0.33\n",
      "(72, 72, 74) 0.33\n",
      "(72, 72, 74) 0.33\n",
      "(72, 72, 74) 0.33\n",
      "(72, 72, 74) 0.33\n",
      "(72, 72, 74) 0.33\n",
      "(72, 72, 74) 0.33\n",
      "(72, 72, 74) 0.33\n",
      "(72, 72, 74) 0.33\n",
      "(72, 72, 74) 0.33\n",
      "(72, 72, 74) 0.33\n",
      "(72, 72, 74) 0.33\n",
      "(72, 72, 74) 0.33\n"
     ]
    }
   ],
   "source": [
    "\n",
    "for ind, elem in enumerate(color_scale.find_elements(\"xpath\", \"*\")):\n",
    "    rgba_str = elem.value_of_css_property(\"background-color\")\n",
    "    rgba_values = rgba_str.replace('rgba(', '').replace(')', '')\n",
    "    rgba_list = [val.strip() for val in rgba_values.split(',')]\n",
    "    \n",
    "    rgb = tuple(map(int, rgba_list[:3]))  # First three values are RGB, convert to integers\n",
    "    grade = float(rgba_list[3])\n",
    "    print(rgb, grade)"
   ]
  },
  {
   "cell_type": "code",
   "execution_count": 125,
   "id": "0d13464d",
   "metadata": {},
   "outputs": [
    {
     "data": {
      "text/plain": [
       "'rgba(181, 254, 225, 1)'"
      ]
     },
     "execution_count": 125,
     "metadata": {},
     "output_type": "execute_result"
    }
   ],
   "source": [
    "t.value_of_css_property(\"background-color\")"
   ]
  },
  {
   "cell_type": "code",
   "execution_count": null,
   "id": "35ab7d22",
   "metadata": {},
   "outputs": [],
   "source": []
  },
  {
   "cell_type": "code",
   "execution_count": null,
   "id": "3130aa8e",
   "metadata": {},
   "outputs": [],
   "source": []
  },
  {
   "cell_type": "code",
   "execution_count": null,
   "id": "109615a4",
   "metadata": {},
   "outputs": [],
   "source": []
  },
  {
   "cell_type": "code",
   "execution_count": null,
   "id": "d3777ee1",
   "metadata": {},
   "outputs": [],
   "source": []
  },
  {
   "cell_type": "code",
   "execution_count": null,
   "id": "67010256",
   "metadata": {},
   "outputs": [],
   "source": []
  },
  {
   "cell_type": "code",
   "execution_count": null,
   "id": "9114c3e6",
   "metadata": {},
   "outputs": [],
   "source": []
  },
  {
   "cell_type": "code",
   "execution_count": null,
   "id": "9e29b0c1",
   "metadata": {},
   "outputs": [],
   "source": []
  },
  {
   "cell_type": "code",
   "execution_count": null,
   "id": "b0885526",
   "metadata": {},
   "outputs": [],
   "source": []
  },
  {
   "cell_type": "code",
   "execution_count": null,
   "id": "4288e34e",
   "metadata": {},
   "outputs": [],
   "source": []
  },
  {
   "cell_type": "code",
   "execution_count": null,
   "id": "e0e96789",
   "metadata": {},
   "outputs": [],
   "source": []
  }
 ],
 "metadata": {
  "kernelspec": {
   "display_name": "Python 3 (ipykernel)",
   "language": "python",
   "name": "python3"
  },
  "language_info": {
   "codemirror_mode": {
    "name": "ipython",
    "version": 3
   },
   "file_extension": ".py",
   "mimetype": "text/x-python",
   "name": "python",
   "nbconvert_exporter": "python",
   "pygments_lexer": "ipython3",
   "version": "3.11.1"
  }
 },
 "nbformat": 4,
 "nbformat_minor": 5
}
