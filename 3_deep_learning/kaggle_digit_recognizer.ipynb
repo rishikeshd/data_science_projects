{
 "cells": [
  {
   "cell_type": "code",
   "execution_count": 1,
   "id": "5d35bcf8",
   "metadata": {},
   "outputs": [
    {
     "data": {
      "text/html": [
       "<style>.container { width:90% !important; }</style>"
      ],
      "text/plain": [
       "<IPython.core.display.HTML object>"
      ]
     },
     "metadata": {},
     "output_type": "display_data"
    }
   ],
   "source": [
    "import pandas as pd\n",
    "import numpy as np\n",
    "import matplotlib.pyplot as plt\n",
    "import seaborn as sns\n",
    "\n",
    "import altair as alt\n",
    "from IPython.display import display, HTML\n",
    "display(HTML(\"<style>.container { width:90% !important; }</style>\"))\n",
    "import os\n",
    "\n",
    "plt.style.use('bmh')\n",
    "%matplotlib inline\n",
    "%load_ext autoreload\n",
    "%autoreload 2\n",
    "%pwd\n",
    "%load_ext altair"
   ]
  },
  {
   "cell_type": "code",
   "execution_count": 2,
   "id": "59050128",
   "metadata": {},
   "outputs": [],
   "source": [
    "import sys\n",
    "sys.path.append('../datasets/')"
   ]
  },
  {
   "cell_type": "code",
   "execution_count": 103,
   "id": "71913dbf",
   "metadata": {},
   "outputs": [
    {
     "name": "stdout",
     "output_type": "stream",
     "text": [
      "(42000, 785) (28000, 785)\n"
     ]
    }
   ],
   "source": [
    "# Load the data\n",
    "train_df = pd.read_csv(\"../datasets/digits_recognizer/train.csv\")\n",
    "test_df = pd.read_csv(\"../datasets/digits_recognizer/test.csv\")\n",
    "submission = pd.read_csv(\"../datasets/digits_recognizer/sample_submission.csv\")\n",
    "test_df['label'] = submission['Label']\n",
    "print(train_df.shape, test_df.shape)"
   ]
  },
  {
   "cell_type": "markdown",
   "id": "89ac2036",
   "metadata": {},
   "source": [
    "# 1) Prep Data"
   ]
  },
  {
   "cell_type": "code",
   "execution_count": 278,
   "id": "32948837",
   "metadata": {},
   "outputs": [
    {
     "name": "stdout",
     "output_type": "stream",
     "text": [
      "(37800, 784) (4200, 784) (37800, 10) (4200, 10) (28000, 784) (28000, 1)\n"
     ]
    }
   ],
   "source": [
    "from sklearn.model_selection import train_test_split\n",
    "\n",
    "target_col = ['label']\n",
    "feature_cols = list(train_df.drop(labels=target_col, axis=1).columns)\n",
    "len(feature_cols)\n",
    "X_train_prep = (train_df[feature_cols] / 255)\n",
    "# 1-hot train y labels\n",
    "y_train_prep = pd.get_dummies(train_df[target_col].label).values.copy()\n",
    "\n",
    "X_test = (test_df[feature_cols] / 255)\n",
    "# 1-hot test y labels\n",
    "y_test = pd.get_dummies(test_df[target_col[0]])\n",
    "\n",
    "X_train, X_val, y_train, y_val = train_test_split(X_train_prep, y_train_prep, test_size=0.1, random_state=37)\n",
    "\n",
    "print(X_train.shape, X_val.shape, y_train.shape, y_val.shape, X_test.shape, y_test.shape)"
   ]
  },
  {
   "cell_type": "markdown",
   "id": "b03b1f92",
   "metadata": {},
   "source": [
    "# 2) Basic Run "
   ]
  },
  {
   "cell_type": "markdown",
   "id": "359492d5",
   "metadata": {},
   "source": [
    "## a) Compile, Fit and Evaluate Model"
   ]
  },
  {
   "cell_type": "code",
   "execution_count": 279,
   "id": "d94dd83d",
   "metadata": {},
   "outputs": [],
   "source": [
    "from tensorflow.keras.models import Sequential\n",
    "from tensorflow.keras.layers import Dense, Dropout, BatchNormalization\n",
    "from tensorflow.keras.callbacks import EarlyStopping\n",
    "import tensorflow as tf"
   ]
  },
  {
   "cell_type": "code",
   "execution_count": 280,
   "id": "e7adcec7",
   "metadata": {},
   "outputs": [
    {
     "name": "stderr",
     "output_type": "stream",
     "text": [
      "/Users/rishikeshdole/.pyenv/versions/3.11.1/envs/nn_llm_env/lib/python3.11/site-packages/keras/src/layers/core/dense.py:87: UserWarning: Do not pass an `input_shape`/`input_dim` argument to a layer. When using Sequential models, prefer using an `Input(shape)` object as the first layer in the model instead.\n",
      "  super().__init__(activity_regularizer=activity_regularizer, **kwargs)\n"
     ]
    }
   ],
   "source": [
    "# Define the model\n",
    "model = Sequential()\n",
    "# Input and Hidden Layers\n",
    "model.add(Dense(units=32, activation='relu', input_shape=(X.shape[0],))) # Input layer for 784 features\n",
    "model.add(Dropout(0.7))  # 50% neurons deactivated randomly\n",
    "model.add(Dense(units=32, activation='relu')) # Hidden layers and ReLU activation\n",
    "model.add(Dropout(0.7))  # 50% neurons deactivated randomly\n",
    "# Output layer\n",
    "model.add(Dense(units=10, activation='softmax'))  # 10 units for 10 digits"
   ]
  },
  {
   "cell_type": "code",
   "execution_count": 281,
   "id": "83e514b2",
   "metadata": {
    "scrolled": true
   },
   "outputs": [
    {
     "name": "stdout",
     "output_type": "stream",
     "text": [
      "Epoch 1/50\n",
      "\u001b[1m591/591\u001b[0m \u001b[32m━━━━━━━━━━━━━━━━━━━━\u001b[0m\u001b[37m\u001b[0m \u001b[1m1s\u001b[0m 730us/step - accuracy: 0.2087 - loss: 2.1042 - val_accuracy: 0.7810 - val_loss: 1.0511\n",
      "Epoch 2/50\n",
      "\u001b[1m591/591\u001b[0m \u001b[32m━━━━━━━━━━━━━━━━━━━━\u001b[0m\u001b[37m\u001b[0m \u001b[1m0s\u001b[0m 616us/step - accuracy: 0.4416 - loss: 1.5433 - val_accuracy: 0.8502 - val_loss: 0.7731\n",
      "Epoch 3/50\n",
      "\u001b[1m591/591\u001b[0m \u001b[32m━━━━━━━━━━━━━━━━━━━━\u001b[0m\u001b[37m\u001b[0m \u001b[1m0s\u001b[0m 617us/step - accuracy: 0.4951 - loss: 1.4149 - val_accuracy: 0.8686 - val_loss: 0.7159\n",
      "Epoch 4/50\n",
      "\u001b[1m591/591\u001b[0m \u001b[32m━━━━━━━━━━━━━━━━━━━━\u001b[0m\u001b[37m\u001b[0m \u001b[1m0s\u001b[0m 631us/step - accuracy: 0.5071 - loss: 1.3662 - val_accuracy: 0.8669 - val_loss: 0.6639\n",
      "Epoch 5/50\n",
      "\u001b[1m591/591\u001b[0m \u001b[32m━━━━━━━━━━━━━━━━━━━━\u001b[0m\u001b[37m\u001b[0m \u001b[1m0s\u001b[0m 628us/step - accuracy: 0.5189 - loss: 1.3343 - val_accuracy: 0.8779 - val_loss: 0.6555\n",
      "Epoch 6/50\n",
      "\u001b[1m591/591\u001b[0m \u001b[32m━━━━━━━━━━━━━━━━━━━━\u001b[0m\u001b[37m\u001b[0m \u001b[1m0s\u001b[0m 623us/step - accuracy: 0.5276 - loss: 1.3067 - val_accuracy: 0.8752 - val_loss: 0.6466\n",
      "Epoch 7/50\n",
      "\u001b[1m591/591\u001b[0m \u001b[32m━━━━━━━━━━━━━━━━━━━━\u001b[0m\u001b[37m\u001b[0m \u001b[1m0s\u001b[0m 625us/step - accuracy: 0.5346 - loss: 1.3015 - val_accuracy: 0.8867 - val_loss: 0.6070\n",
      "Epoch 8/50\n",
      "\u001b[1m591/591\u001b[0m \u001b[32m━━━━━━━━━━━━━━━━━━━━\u001b[0m\u001b[37m\u001b[0m \u001b[1m0s\u001b[0m 623us/step - accuracy: 0.5534 - loss: 1.2639 - val_accuracy: 0.8888 - val_loss: 0.5929\n",
      "Epoch 9/50\n",
      "\u001b[1m591/591\u001b[0m \u001b[32m━━━━━━━━━━━━━━━━━━━━\u001b[0m\u001b[37m\u001b[0m \u001b[1m0s\u001b[0m 619us/step - accuracy: 0.5563 - loss: 1.2507 - val_accuracy: 0.8940 - val_loss: 0.5623\n",
      "Epoch 10/50\n",
      "\u001b[1m591/591\u001b[0m \u001b[32m━━━━━━━━━━━━━━━━━━━━\u001b[0m\u001b[37m\u001b[0m \u001b[1m0s\u001b[0m 621us/step - accuracy: 0.5557 - loss: 1.2531 - val_accuracy: 0.8926 - val_loss: 0.5632\n",
      "Epoch 11/50\n",
      "\u001b[1m591/591\u001b[0m \u001b[32m━━━━━━━━━━━━━━━━━━━━\u001b[0m\u001b[37m\u001b[0m \u001b[1m0s\u001b[0m 633us/step - accuracy: 0.5693 - loss: 1.2212 - val_accuracy: 0.8988 - val_loss: 0.5522\n",
      "Epoch 12/50\n",
      "\u001b[1m591/591\u001b[0m \u001b[32m━━━━━━━━━━━━━━━━━━━━\u001b[0m\u001b[37m\u001b[0m \u001b[1m0s\u001b[0m 611us/step - accuracy: 0.5677 - loss: 1.2286 - val_accuracy: 0.8938 - val_loss: 0.5619\n",
      "Epoch 13/50\n",
      "\u001b[1m591/591\u001b[0m \u001b[32m━━━━━━━━━━━━━━━━━━━━\u001b[0m\u001b[37m\u001b[0m \u001b[1m0s\u001b[0m 619us/step - accuracy: 0.5682 - loss: 1.2165 - val_accuracy: 0.8950 - val_loss: 0.5426\n",
      "Epoch 14/50\n",
      "\u001b[1m591/591\u001b[0m \u001b[32m━━━━━━━━━━━━━━━━━━━━\u001b[0m\u001b[37m\u001b[0m \u001b[1m0s\u001b[0m 620us/step - accuracy: 0.5761 - loss: 1.2242 - val_accuracy: 0.8926 - val_loss: 0.5498\n",
      "Epoch 15/50\n",
      "\u001b[1m591/591\u001b[0m \u001b[32m━━━━━━━━━━━━━━━━━━━━\u001b[0m\u001b[37m\u001b[0m \u001b[1m0s\u001b[0m 621us/step - accuracy: 0.5736 - loss: 1.2028 - val_accuracy: 0.9007 - val_loss: 0.5345\n",
      "Epoch 16/50\n",
      "\u001b[1m591/591\u001b[0m \u001b[32m━━━━━━━━━━━━━━━━━━━━\u001b[0m\u001b[37m\u001b[0m \u001b[1m1s\u001b[0m 981us/step - accuracy: 0.5827 - loss: 1.1836 - val_accuracy: 0.8979 - val_loss: 0.5324\n",
      "Epoch 17/50\n",
      "\u001b[1m591/591\u001b[0m \u001b[32m━━━━━━━━━━━━━━━━━━━━\u001b[0m\u001b[37m\u001b[0m \u001b[1m0s\u001b[0m 628us/step - accuracy: 0.5881 - loss: 1.1854 - val_accuracy: 0.9007 - val_loss: 0.5248\n",
      "Epoch 18/50\n",
      "\u001b[1m591/591\u001b[0m \u001b[32m━━━━━━━━━━━━━━━━━━━━\u001b[0m\u001b[37m\u001b[0m \u001b[1m0s\u001b[0m 653us/step - accuracy: 0.5930 - loss: 1.1617 - val_accuracy: 0.9005 - val_loss: 0.5323\n",
      "Epoch 19/50\n",
      "\u001b[1m591/591\u001b[0m \u001b[32m━━━━━━━━━━━━━━━━━━━━\u001b[0m\u001b[37m\u001b[0m \u001b[1m0s\u001b[0m 618us/step - accuracy: 0.5882 - loss: 1.1783 - val_accuracy: 0.8995 - val_loss: 0.5372\n",
      "Epoch 20/50\n",
      "\u001b[1m591/591\u001b[0m \u001b[32m━━━━━━━━━━━━━━━━━━━━\u001b[0m\u001b[37m\u001b[0m \u001b[1m0s\u001b[0m 629us/step - accuracy: 0.6004 - loss: 1.1493 - val_accuracy: 0.9000 - val_loss: 0.5307\n",
      "\u001b[1m1182/1182\u001b[0m \u001b[32m━━━━━━━━━━━━━━━━━━━━\u001b[0m\u001b[37m\u001b[0m \u001b[1m0s\u001b[0m 274us/step - accuracy: 0.9011 - loss: 0.5074\n",
      "Training Accuracy: 90.10%\n"
     ]
    }
   ],
   "source": [
    "# early stopping\n",
    "early_stopping = EarlyStopping(monitor='val_loss', patience=3)  # Stop if no improvement for 3 epochs\n",
    "\n",
    "# Compile the model\n",
    "adam_optimizer = tf.keras.optimizers.Adam(learning_rate=0.001)  # Tune the learning rate\n",
    "model.compile(optimizer=adam_optimizer, loss='categorical_crossentropy', metrics=['accuracy'])\n",
    "\n",
    "# Train the model\n",
    "history = model.fit(X_train, y_train, validation_data=(X_val, y_val), epochs=50, batch_size=64, callbacks=[early_stopping])\n",
    "\n",
    "# Evaluate the model\n",
    "loss, accuracy = model.evaluate(X_train, y_train)\n",
    "\n",
    "print(f'Training Accuracy: {accuracy*100:.2f}%')"
   ]
  },
  {
   "cell_type": "code",
   "execution_count": 282,
   "id": "f9608962",
   "metadata": {},
   "outputs": [
    {
     "data": {
      "image/png": "[encoded data removed]",
      "text/plain": [
       "<Figure size 800x600 with 1 Axes>"
      ]
     },
     "metadata": {},
     "output_type": "display_data"
    }
   ],
   "source": [
    "fig = plt.figure(figsize=(8, 6))\n",
    "ax = fig.add_subplot(111)\n",
    "\n",
    "ax.plot(history.history['accuracy'], label='Train Accuracy')\n",
    "ax.plot(history.history['val_accuracy'], label='Val Accuracy')\n",
    "ax.set_xlabel('Epochs')\n",
    "ax.set_ylabel('Accuracy')\n",
    "ax.set_ylim(0.5, 1);\n",
    "ax.legend(loc='lower right');\n",
    "ax.set_title('Train vs Val Accuracy');"
   ]
  },
  {
   "cell_type": "markdown",
   "id": "f9cfe703",
   "metadata": {},
   "source": [
    "## b) Test on test Dataset"
   ]
  },
  {
   "cell_type": "code",
   "execution_count": 283,
   "id": "3d5fbd50",
   "metadata": {},
   "outputs": [
    {
     "name": "stdout",
     "output_type": "stream",
     "text": [
      "\u001b[1m875/875\u001b[0m \u001b[32m━━━━━━━━━━━━━━━━━━━━\u001b[0m\u001b[37m\u001b[0m \u001b[1m0s\u001b[0m 261us/step\n"
     ]
    },
    {
     "data": {
      "text/plain": [
       "8    3574\n",
       "1    3110\n",
       "4    3003\n",
       "6    2834\n",
       "7    2697\n",
       "3    2674\n",
       "2    2646\n",
       "0    2636\n",
       "9    2614\n",
       "5    2212\n",
       "dtype: int64"
      ]
     },
     "execution_count": 283,
     "metadata": {},
     "output_type": "execute_result"
    }
   ],
   "source": [
    "y_pred_test = model.predict(X_test)\n",
    "y_pred_classes = np.argmax(y_pred_test, axis=1)\n",
    "# Ensure predictions are diverse by checking unique predictions\n",
    "pd.Series(y_pred_classes).value_counts()"
   ]
  },
  {
   "cell_type": "code",
   "execution_count": 284,
   "id": "71a862e6",
   "metadata": {},
   "outputs": [],
   "source": [
    "final_submission = pd.DataFrame()\n",
    "final_submission['ImageId'] = submission['ImageId']\n",
    "final_submission['Label'] = np.argmax(y_pred_test, axis=1)\n",
    "final_submission.to_csv('../datasets/digits_recognizer/my_submission.csv', sep=',', index=False)"
   ]
  },
  {
   "cell_type": "code",
   "execution_count": null,
   "id": "793aafc3",
   "metadata": {},
   "outputs": [],
   "source": [
    "# basic submission gets a score of 0.81 with the test dataset. let's reduce the learning rate and see, and convert this into function calls:"
   ]
  },
  {
   "cell_type": "markdown",
   "id": "3c44a265",
   "metadata": {},
   "source": [
    "# 3) Updated Run"
   ]
  },
  {
   "cell_type": "code",
   "execution_count": 347,
   "id": "0dcaecbd",
   "metadata": {},
   "outputs": [],
   "source": [
    "import sys\n",
    "sys.path.append('../src/')\n",
    "import tf_deep_learning"
   ]
  },
  {
   "cell_type": "code",
   "execution_count": 348,
   "id": "ed98ce9f",
   "metadata": {
    "scrolled": true
   },
   "outputs": [],
   "source": [
    "input_shape = X_train.shape[1]\n",
    "hidden_layers = [32, 32, 100, 50, 20]\n",
    "output_units = 10\n",
    "dropout_rate = 0.2\n",
    "model = tf_deep_learning.tf_model(input_shape, hidden_layers, output_units, dropout_rate)"
   ]
  },
  {
   "cell_type": "code",
   "execution_count": 350,
   "id": "22aa8624",
   "metadata": {
    "scrolled": true
   },
   "outputs": [
    {
     "name": "stdout",
     "output_type": "stream",
     "text": [
      "Epoch 1/1000\n",
      "\u001b[1m591/591\u001b[0m \u001b[32m━━━━━━━━━━━━━━━━━━━━\u001b[0m\u001b[37m\u001b[0m \u001b[1m1s\u001b[0m 987us/step - accuracy: 0.9081 - loss: 0.3903 - val_accuracy: 0.9274 - val_loss: 0.3054\n",
      "Epoch 2/1000\n",
      "\u001b[1m591/591\u001b[0m \u001b[32m━━━━━━━━━━━━━━━━━━━━\u001b[0m\u001b[37m\u001b[0m \u001b[1m0s\u001b[0m 820us/step - accuracy: 0.9033 - loss: 0.3972 - val_accuracy: 0.9276 - val_loss: 0.2955\n",
      "Epoch 3/1000\n",
      "\u001b[1m591/591\u001b[0m \u001b[32m━━━━━━━━━━━━━━━━━━━━\u001b[0m\u001b[37m\u001b[0m \u001b[1m0s\u001b[0m 814us/step - accuracy: 0.9126 - loss: 0.3643 - val_accuracy: 0.9340 - val_loss: 0.3015\n",
      "Epoch 4/1000\n",
      "\u001b[1m591/591\u001b[0m \u001b[32m━━━━━━━━━━━━━━━━━━━━\u001b[0m\u001b[37m\u001b[0m \u001b[1m0s\u001b[0m 800us/step - accuracy: 0.9158 - loss: 0.3519 - val_accuracy: 0.9321 - val_loss: 0.3112\n",
      "Epoch 5/1000\n",
      "\u001b[1m591/591\u001b[0m \u001b[32m━━━━━━━━━━━━━━━━━━━━\u001b[0m\u001b[37m\u001b[0m \u001b[1m0s\u001b[0m 805us/step - accuracy: 0.9131 - loss: 0.3577 - val_accuracy: 0.9260 - val_loss: 0.3240\n",
      "\u001b[1m1182/1182\u001b[0m \u001b[32m━━━━━━━━━━━━━━━━━━━━\u001b[0m\u001b[37m\u001b[0m \u001b[1m0s\u001b[0m 333us/step - accuracy: 0.9361 - loss: 0.2630\n",
      "\u001b[1m132/132\u001b[0m \u001b[32m━━━━━━━━━━━━━━━━━━━━\u001b[0m\u001b[37m\u001b[0m \u001b[1m0s\u001b[0m 323us/step - accuracy: 0.9246 - loss: 0.3362\n"
     ]
    },
    {
     "data": {
      "text/plain": [
       "(0.9360317587852478, 0.9259523749351501)"
      ]
     },
     "execution_count": 350,
     "metadata": {},
     "output_type": "execute_result"
    }
   ],
   "source": [
    "epochs = 1000\n",
    "batch_size=64\n",
    "learning_rate=0.01\n",
    "trained_model, history, train_accuracy, val_accuracy = tf_deep_learning.fit_and_evaluate(model, X_train, y_train, X_val, y_val, epochs, batch_size, learning_rate)\n",
    "train_accuracy, val_accuracy"
   ]
  },
  {
   "cell_type": "code",
   "execution_count": 351,
   "id": "87dde891",
   "metadata": {},
   "outputs": [
    {
     "data": {
      "image/png": "[encoded data removed]",
      "text/plain": [
       "<Figure size 800x600 with 1 Axes>"
      ]
     },
     "metadata": {},
     "output_type": "display_data"
    }
   ],
   "source": [
    "fig = plt.figure(figsize=(8, 6))\n",
    "ax = fig.add_subplot(111)\n",
    "\n",
    "ax.plot(history.history['accuracy'], label='Train Accuracy')\n",
    "ax.plot(history.history['val_accuracy'], label='Val Accuracy')\n",
    "ax.set_xlabel('Epochs')\n",
    "ax.set_ylabel('Accuracy')\n",
    "ax.set_ylim(0.5, 1);\n",
    "ax.legend(loc='lower right');\n",
    "ax.set_title('Train vs Val Accuracy');"
   ]
  },
  {
   "cell_type": "code",
   "execution_count": 352,
   "id": "5edd8dc6",
   "metadata": {},
   "outputs": [
    {
     "name": "stdout",
     "output_type": "stream",
     "text": [
      "\u001b[1m875/875\u001b[0m \u001b[32m━━━━━━━━━━━━━━━━━━━━\u001b[0m\u001b[37m\u001b[0m \u001b[1m0s\u001b[0m 292us/step\n"
     ]
    },
    {
     "data": {
      "text/plain": [
       "2    3140\n",
       "1    3089\n",
       "7    2987\n",
       "9    2839\n",
       "4    2831\n",
       "8    2815\n",
       "6    2707\n",
       "0    2681\n",
       "3    2518\n",
       "5    2393\n",
       "dtype: int64"
      ]
     },
     "execution_count": 352,
     "metadata": {},
     "output_type": "execute_result"
    }
   ],
   "source": [
    "y_pred_test = trained_model.predict(X_test)\n",
    "y_pred_classes = np.argmax(y_pred_test, axis=1)\n",
    "# Ensure predictions are diverse by checking unique predictions\n",
    "pd.Series(y_pred_classes).value_counts()"
   ]
  },
  {
   "cell_type": "code",
   "execution_count": 353,
   "id": "d4bdd937",
   "metadata": {},
   "outputs": [],
   "source": [
    "final_submission = pd.DataFrame()\n",
    "final_submission['ImageId'] = submission['ImageId']\n",
    "final_submission['Label'] = np.argmax(y_pred_test, axis=1)\n",
    "final_submission.to_csv('../datasets/digits_recognizer/my_submission_2.csv', sep=',', index=False)"
   ]
  },
  {
   "cell_type": "markdown",
   "id": "3553b2ca",
   "metadata": {},
   "source": [
    "#train and val are pretty close, so now we should try to increase the train accuracy. so, now we will try to do some hyperparameter tuning"
   ]
  },
  {
   "cell_type": "markdown",
   "id": "a76bfde9",
   "metadata": {},
   "source": [
    "# 4) HP Run"
   ]
  },
  {
   "cell_type": "code",
   "execution_count": 447,
   "id": "98d74f3d",
   "metadata": {},
   "outputs": [],
   "source": [
    "def build_model(hp):\n",
    "    input_shape = 784\n",
    "    output_units = 10\n",
    "    \n",
    "    # Define hyperparameters using hp\n",
    "    num_hidden_layers = hp.Int('num_hidden_layers', 1, 7)\n",
    "    dropout_rate = hp.Float('dropout_rate', min_value=0.1, max_value=0.9, step=0.1)\n",
    "    learning_rate = hp.Float('learning_rate', min_value=1e-4, max_value=1e-2, sampling='LOG')\n",
    "    \n",
    "    # Create a list for units in hidden layers\n",
    "    hidden_layers = [hp.Int(f'units_{i+1}', min_value=40, max_value=256, step=32) for i in range(num_hidden_layers)]\n",
    "\n",
    "    # Call the model-building function with these hyperparameters\n",
    "    model = tf_deep_learning.tf_model(input_shape, hidden_layers, output_units, dropout_rate, learning_rate)\n",
    "\n",
    "    return model"
   ]
  },
  {
   "cell_type": "code",
   "execution_count": 448,
   "id": "0e04f5da",
   "metadata": {
    "scrolled": true
   },
   "outputs": [
    {
     "name": "stderr",
     "output_type": "stream",
     "text": [
      "/Users/rishikeshdole/.pyenv/versions/3.11.1/envs/nn_llm_env/lib/python3.11/site-packages/keras/src/layers/core/dense.py:87: UserWarning: Do not pass an `input_shape`/`input_dim` argument to a layer. When using Sequential models, prefer using an `Input(shape)` object as the first layer in the model instead.\n",
      "  super().__init__(activity_regularizer=activity_regularizer, **kwargs)\n"
     ]
    }
   ],
   "source": [
    "# Initialize the RandomSearch tuner\n",
    "from kerastuner import RandomSearch\n",
    "input_shape = X_train.shape[1]\n",
    "output_units = 10\n",
    "tuner = RandomSearch(lambda hp: build_model(hp),\n",
    "                     objective='val_accuracy',\n",
    "                     max_trials=10,\n",
    "                     executions_per_trial=1,\n",
    "                     directory='random_search',\n",
    "                     project_name='random_search3')"
   ]
  },
  {
   "cell_type": "code",
   "execution_count": 449,
   "id": "77eb7ed3",
   "metadata": {
    "scrolled": true
   },
   "outputs": [
    {
     "name": "stdout",
     "output_type": "stream",
     "text": [
      "Trial 10 Complete [00h 01m 45s]\n",
      "val_accuracy: 0.8792856931686401\n",
      "\n",
      "Best val_accuracy So Far: 0.979285717010498\n",
      "Total elapsed time: 00h 12m 21s\n"
     ]
    }
   ],
   "source": [
    "tuner.search(X_train, y_train,\n",
    "             epochs=100,\n",
    "             batch_size=128,\n",
    "             validation_data=(X_val, y_val))"
   ]
  },
  {
   "cell_type": "code",
   "execution_count": 450,
   "id": "7aff37a2",
   "metadata": {},
   "outputs": [
    {
     "data": {
      "image/png": "[encoded data removed]",
      "text/plain": [
       "<Figure size 1000x500 with 1 Axes>"
      ]
     },
     "metadata": {},
     "output_type": "display_data"
    }
   ],
   "source": [
    "# Get the best trials\n",
    "trials = tuner.oracle.get_best_trials(num_trials=5)  # Adjust the number of trials as needed\n",
    "\n",
    "# Lists to collect train and validation scores\n",
    "train_scores = []\n",
    "val_scores = []\n",
    "\n",
    "# Collect scores for each trial\n",
    "for trial in trials: \n",
    "    train_acc = trials[0].metrics.metrics['accuracy'].get_best_value()\n",
    "    val_acc = trials[0].metrics.metrics['val_accuracy'].get_best_value()\n",
    "    train_scores.append(train_acc)\n",
    "    val_scores.append(val_acc)\n",
    "\n",
    "# Plotting\n",
    "plt.figure(figsize=(10, 5))\n",
    "epochs = range(1, len(train_scores) + 1)\n",
    "\n",
    "plt.plot(epochs, train_scores, label='Train Score', marker='o')\n",
    "plt.plot(epochs, val_scores, label='Validation Score', marker='o')\n",
    "\n",
    "plt.title('Train vs Validation Scores')\n",
    "plt.xlabel('Trials')\n",
    "plt.ylabel('Accuracy')\n",
    "plt.xticks(epochs)  # Show all trial numbers on the x-axis\n",
    "plt.legend()\n",
    "plt.grid()\n",
    "plt.show()"
   ]
  },
  {
   "cell_type": "code",
   "execution_count": 452,
   "id": "e9b2ac4f",
   "metadata": {},
   "outputs": [
    {
     "name": "stderr",
     "output_type": "stream",
     "text": [
      "/Users/rishikeshdole/.pyenv/versions/3.11.1/envs/nn_llm_env/lib/python3.11/site-packages/keras/src/saving/saving_lib.py:713: UserWarning: Skipping variable loading for optimizer 'adam', because it has 2 variables whereas the saved optimizer has 22 variables. \n",
      "  saveable.load_own_variables(weights_store.get(inner_path))\n"
     ]
    }
   ],
   "source": [
    "# Get the best model and hyperparameters\n",
    "best_model = tuner.get_best_models(num_models=1)[0]\n",
    "best_hyperparameters = tuner.get_best_hyperparameters(num_trials=1)[0]"
   ]
  },
  {
   "cell_type": "code",
   "execution_count": 453,
   "id": "84cc5f44",
   "metadata": {},
   "outputs": [
    {
     "data": {
      "text/plain": [
       "{'num_hidden_layers': 4,\n",
       " 'dropout_rate': 0.1,\n",
       " 'learning_rate': 0.002331852927164919,\n",
       " 'units_1': 232,\n",
       " 'units_2': 200,\n",
       " 'units_3': 40,\n",
       " 'units_4': 72,\n",
       " 'units_5': 40,\n",
       " 'units_6': 104}"
      ]
     },
     "execution_count": 453,
     "metadata": {},
     "output_type": "execute_result"
    }
   ],
   "source": [
    "best_hyperparameters.values"
   ]
  },
  {
   "cell_type": "code",
   "execution_count": 454,
   "id": "83eb2f20",
   "metadata": {},
   "outputs": [
    {
     "name": "stdout",
     "output_type": "stream",
     "text": [
      "\u001b[1m132/132\u001b[0m \u001b[32m━━━━━━━━━━━━━━━━━━━━\u001b[0m\u001b[37m\u001b[0m \u001b[1m0s\u001b[0m 483us/step - accuracy: 0.9796 - loss: 0.1665\n",
      "Test Accuracy: 0.9793\n"
     ]
    }
   ],
   "source": [
    "# Evaluate the best model on the test data\n",
    "test_loss, test_accuracy = best_model.evaluate(X_val, y_val)\n",
    "print(f\"Test Accuracy: {test_accuracy:.4f}\")"
   ]
  },
  {
   "cell_type": "code",
   "execution_count": 455,
   "id": "fb8a6d42",
   "metadata": {},
   "outputs": [
    {
     "name": "stdout",
     "output_type": "stream",
     "text": [
      "\u001b[1m875/875\u001b[0m \u001b[32m━━━━━━━━━━━━━━━━━━━━\u001b[0m\u001b[37m\u001b[0m \u001b[1m0s\u001b[0m 436us/step\n"
     ]
    },
    {
     "data": {
      "text/plain": [
       "1    3199\n",
       "7    2868\n",
       "2    2823\n",
       "4    2799\n",
       "0    2792\n",
       "3    2783\n",
       "9    2748\n",
       "8    2730\n",
       "6    2724\n",
       "5    2534\n",
       "dtype: int64"
      ]
     },
     "execution_count": 455,
     "metadata": {},
     "output_type": "execute_result"
    }
   ],
   "source": [
    "y_pred_test = best_model.predict(X_test)\n",
    "y_pred_classes = np.argmax(y_pred_test, axis=1)\n",
    "# Ensure predictions are diverse by checking unique predictions\n",
    "pd.Series(y_pred_classes).value_counts()"
   ]
  },
  {
   "cell_type": "code",
   "execution_count": 456,
   "id": "b89d7e72",
   "metadata": {},
   "outputs": [],
   "source": [
    "final_submission = pd.DataFrame()\n",
    "final_submission['ImageId'] = submission['ImageId']\n",
    "final_submission['Label'] = np.argmax(y_pred_test, axis=1)\n",
    "final_submission.to_csv('../datasets/digits_recognizer/my_submission_4.csv', sep=',', index=False)"
   ]
  },
  {
   "cell_type": "code",
   "execution_count": null,
   "id": "d33b09cd",
   "metadata": {},
   "outputs": [],
   "source": [
    "# we have gotten a validation score of 0.979, and a test submission score of 0.979 as well. I think this is a pretty good score for now. "
   ]
  },
  {
   "cell_type": "code",
   "execution_count": null,
   "id": "d72f7125",
   "metadata": {},
   "outputs": [],
   "source": []
  },
  {
   "cell_type": "code",
   "execution_count": null,
   "id": "31fdc44e",
   "metadata": {},
   "outputs": [],
   "source": []
  },
  {
   "cell_type": "code",
   "execution_count": null,
   "id": "b04d9aa8",
   "metadata": {},
   "outputs": [],
   "source": []
  },
  {
   "cell_type": "code",
   "execution_count": null,
   "id": "dda9078f",
   "metadata": {},
   "outputs": [],
   "source": []
  },
  {
   "cell_type": "code",
   "execution_count": null,
   "id": "5c2d82c8",
   "metadata": {},
   "outputs": [],
   "source": []
  },
  {
   "cell_type": "code",
   "execution_count": null,
   "id": "cc5ef14f",
   "metadata": {},
   "outputs": [],
   "source": []
  },
  {
   "cell_type": "code",
   "execution_count": null,
   "id": "b1c7a758",
   "metadata": {},
   "outputs": [],
   "source": []
  }
 ],
 "metadata": {
  "kernelspec": {
   "display_name": "Python 3 (ipykernel)",
   "language": "python",
   "name": "python3"
  },
  "language_info": {
   "codemirror_mode": {
    "name": "ipython",
    "version": 3
   },
   "file_extension": ".py",
   "mimetype": "text/x-python",
   "name": "python",
   "nbconvert_exporter": "python",
   "pygments_lexer": "ipython3",
   "version": "3.11.1"
  }
 },
 "nbformat": 4,
 "nbformat_minor": 5
}
