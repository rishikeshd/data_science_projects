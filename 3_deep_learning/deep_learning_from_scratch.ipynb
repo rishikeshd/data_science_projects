{
 "cells": [
  {
   "cell_type": "code",
   "execution_count": 1,
   "id": "e45e78ff",
   "metadata": {},
   "outputs": [
    {
     "data": {
      "text/html": [
       "<style>.container { width:90% !important; }</style>"
      ],
      "text/plain": [
       "<IPython.core.display.HTML object>"
      ]
     },
     "metadata": {},
     "output_type": "display_data"
    }
   ],
   "source": [
    "import pandas as pd\n",
    "import numpy as np\n",
    "import matplotlib.pyplot as plt\n",
    "import seaborn as sns\n",
    "\n",
    "import altair as alt\n",
    "from IPython.display import display, HTML\n",
    "display(HTML(\"<style>.container { width:90% !important; }</style>\"))\n",
    "import os\n",
    "\n",
    "plt.style.use('bmh')\n",
    "%matplotlib inline\n",
    "%load_ext autoreload\n",
    "%autoreload 2\n",
    "%pwd\n",
    "%load_ext altair"
   ]
  },
  {
   "cell_type": "code",
   "execution_count": 2,
   "id": "0ec58f88",
   "metadata": {},
   "outputs": [],
   "source": [
    "import sys\n",
    "sys.path.append('../datasets/')"
   ]
  },
  {
   "cell_type": "code",
   "execution_count": 279,
   "id": "526cc0ba",
   "metadata": {},
   "outputs": [
    {
     "name": "stdout",
     "output_type": "stream",
     "text": [
      "../datasets/digits_recognizer/train.csv\r\n"
     ]
    }
   ],
   "source": [
    "!ls ../datasets/digits_recognizer/train.csv"
   ]
  },
  {
   "cell_type": "code",
   "execution_count": null,
   "id": "80e2480d",
   "metadata": {},
   "outputs": [],
   "source": [
    "# download data from https://www.kaggle.com/competitions/digit-recognizer/data, and store it in ../datasets/digits_recognizer/ location to run this file"
   ]
  },
  {
   "cell_type": "markdown",
   "id": "3bdf752e",
   "metadata": {},
   "source": [
    "# This notebook implements a neural network from scratch on a dataset of digits\n",
    "## Steps required to prepare algorithm from scratch\n",
    "1. Prepping data to get images in proper format\n",
    "2. Choose the Dimensions of the different layers of NN\n",
    "3. Initialize Parameters using the He Uniform\n",
    "4. Execute Forward Propagation using the initialized parameters:\n",
    "    a. Initial layers are activated using RELU \n",
    "    b. Final layer is activated using softmax since our target has multiple classes(10)\n",
    "5. Compute Cost for multiple classes\n",
    "6. Calculating gradient through backward propagation\n",
    "7. Updating parameters based on calculated gradients\n",
    "8. Predicting Y_pred using forward propogation and updated parameters\n",
    "9. Calculating Accuracy"
   ]
  },
  {
   "cell_type": "markdown",
   "id": "757c0c29",
   "metadata": {},
   "source": [
    "# 1) Data"
   ]
  },
  {
   "cell_type": "markdown",
   "id": "9bd88a4f",
   "metadata": {},
   "source": [
    "## a) Load Data"
   ]
  },
  {
   "cell_type": "code",
   "execution_count": 280,
   "id": "94d6f37f",
   "metadata": {},
   "outputs": [
    {
     "name": "stdout",
     "output_type": "stream",
     "text": [
      "(42000, 785)\n"
     ]
    }
   ],
   "source": [
    "# Load the data\n",
    "train_df = pd.read_csv(\"../datasets/digits_recognizer/train.csv\")\n",
    "print(train_df.shape)"
   ]
  },
  {
   "cell_type": "code",
   "execution_count": 281,
   "id": "75802868",
   "metadata": {},
   "outputs": [
    {
     "data": {
      "text/html": [
       "<div>\n",
       "<style scoped>\n",
       "    .dataframe tbody tr th:only-of-type {\n",
       "        vertical-align: middle;\n",
       "    }\n",
       "\n",
       "    .dataframe tbody tr th {\n",
       "        vertical-align: top;\n",
       "    }\n",
       "\n",
       "    .dataframe thead th {\n",
       "        text-align: right;\n",
       "    }\n",
       "</style>\n",
       "<table border=\"1\" class=\"dataframe\">\n",
       "  <thead>\n",
       "    <tr style=\"text-align: right;\">\n",
       "      <th></th>\n",
       "      <th>label</th>\n",
       "      <th>pixel0</th>\n",
       "      <th>pixel1</th>\n",
       "      <th>pixel2</th>\n",
       "      <th>pixel3</th>\n",
       "      <th>pixel4</th>\n",
       "      <th>pixel5</th>\n",
       "      <th>pixel6</th>\n",
       "      <th>pixel7</th>\n",
       "      <th>pixel8</th>\n",
       "      <th>...</th>\n",
       "      <th>pixel774</th>\n",
       "      <th>pixel775</th>\n",
       "      <th>pixel776</th>\n",
       "      <th>pixel777</th>\n",
       "      <th>pixel778</th>\n",
       "      <th>pixel779</th>\n",
       "      <th>pixel780</th>\n",
       "      <th>pixel781</th>\n",
       "      <th>pixel782</th>\n",
       "      <th>pixel783</th>\n",
       "    </tr>\n",
       "  </thead>\n",
       "  <tbody>\n",
       "    <tr>\n",
       "      <th>0</th>\n",
       "      <td>1</td>\n",
       "      <td>0</td>\n",
       "      <td>0</td>\n",
       "      <td>0</td>\n",
       "      <td>0</td>\n",
       "      <td>0</td>\n",
       "      <td>0</td>\n",
       "      <td>0</td>\n",
       "      <td>0</td>\n",
       "      <td>0</td>\n",
       "      <td>...</td>\n",
       "      <td>0</td>\n",
       "      <td>0</td>\n",
       "      <td>0</td>\n",
       "      <td>0</td>\n",
       "      <td>0</td>\n",
       "      <td>0</td>\n",
       "      <td>0</td>\n",
       "      <td>0</td>\n",
       "      <td>0</td>\n",
       "      <td>0</td>\n",
       "    </tr>\n",
       "    <tr>\n",
       "      <th>1</th>\n",
       "      <td>0</td>\n",
       "      <td>0</td>\n",
       "      <td>0</td>\n",
       "      <td>0</td>\n",
       "      <td>0</td>\n",
       "      <td>0</td>\n",
       "      <td>0</td>\n",
       "      <td>0</td>\n",
       "      <td>0</td>\n",
       "      <td>0</td>\n",
       "      <td>...</td>\n",
       "      <td>0</td>\n",
       "      <td>0</td>\n",
       "      <td>0</td>\n",
       "      <td>0</td>\n",
       "      <td>0</td>\n",
       "      <td>0</td>\n",
       "      <td>0</td>\n",
       "      <td>0</td>\n",
       "      <td>0</td>\n",
       "      <td>0</td>\n",
       "    </tr>\n",
       "  </tbody>\n",
       "</table>\n",
       "<p>2 rows × 785 columns</p>\n",
       "</div>"
      ],
      "text/plain": [
       "   label  pixel0  pixel1  pixel2  pixel3  pixel4  pixel5  pixel6  pixel7  \\\n",
       "0      1       0       0       0       0       0       0       0       0   \n",
       "1      0       0       0       0       0       0       0       0       0   \n",
       "\n",
       "   pixel8  ...  pixel774  pixel775  pixel776  pixel777  pixel778  pixel779  \\\n",
       "0       0  ...         0         0         0         0         0         0   \n",
       "1       0  ...         0         0         0         0         0         0   \n",
       "\n",
       "   pixel780  pixel781  pixel782  pixel783  \n",
       "0         0         0         0         0  \n",
       "1         0         0         0         0  \n",
       "\n",
       "[2 rows x 785 columns]"
      ]
     },
     "execution_count": 281,
     "metadata": {},
     "output_type": "execute_result"
    }
   ],
   "source": [
    "train_df.head(2)"
   ]
  },
  {
   "cell_type": "markdown",
   "id": "2e2fd55e",
   "metadata": {},
   "source": [
    "## b) Coverage and Distribution"
   ]
  },
  {
   "cell_type": "code",
   "execution_count": 6,
   "id": "aaa3ec2f",
   "metadata": {},
   "outputs": [
    {
     "data": {
      "text/plain": [
       "1    0.111524\n",
       "7    0.104786\n",
       "3    0.103595\n",
       "9    0.099714\n",
       "2    0.099452\n",
       "6    0.098500\n",
       "0    0.098381\n",
       "4    0.096952\n",
       "8    0.096738\n",
       "5    0.090357\n",
       "Name: label, dtype: float64"
      ]
     },
     "execution_count": 6,
     "metadata": {},
     "output_type": "execute_result"
    }
   ],
   "source": [
    "# lets see the distribution of labels\n",
    "train_df.label.value_counts(normalize=True)"
   ]
  },
  {
   "cell_type": "code",
   "execution_count": 7,
   "id": "6299091b",
   "metadata": {},
   "outputs": [],
   "source": [
    "# distribution of data is balanced."
   ]
  },
  {
   "cell_type": "code",
   "execution_count": 8,
   "id": "77c41314",
   "metadata": {},
   "outputs": [
    {
     "data": {
      "text/plain": [
       "False    42000\n",
       "Name: label, dtype: int64"
      ]
     },
     "execution_count": 8,
     "metadata": {},
     "output_type": "execute_result"
    }
   ],
   "source": [
    "# no null values in the target\n",
    "train_df.label.isnull().value_counts()"
   ]
  },
  {
   "cell_type": "code",
   "execution_count": 9,
   "id": "2faca9b6",
   "metadata": {},
   "outputs": [
    {
     "data": {
      "text/plain": [
       "False    785\n",
       "dtype: int64"
      ]
     },
     "execution_count": 9,
     "metadata": {},
     "output_type": "execute_result"
    }
   ],
   "source": [
    "# no null values in the dataset as well\n",
    "train_df.isnull().any().value_counts()"
   ]
  },
  {
   "cell_type": "markdown",
   "id": "0915fc62",
   "metadata": {},
   "source": [
    "# 2) Normalize and Reshape Data"
   ]
  },
  {
   "cell_type": "code",
   "execution_count": 10,
   "id": "df68578a",
   "metadata": {},
   "outputs": [
    {
     "name": "stdout",
     "output_type": "stream",
     "text": [
      "(42000, 784) (42000, 1)\n"
     ]
    }
   ],
   "source": [
    "target_col = ['label']\n",
    "feature_cols = list(train_df.drop(labels=target_col, axis=1).columns)\n",
    "len(feature_cols)\n",
    "X_train = (train_df[feature_cols] / 255)\n",
    "y_train = train_df[target_col]\n",
    "print(X_train.shape, y_train.shape)"
   ]
  },
  {
   "cell_type": "code",
   "execution_count": 11,
   "id": "d77ee79e",
   "metadata": {},
   "outputs": [
    {
     "data": {
      "text/html": [
       "<div>\n",
       "<style scoped>\n",
       "    .dataframe tbody tr th:only-of-type {\n",
       "        vertical-align: middle;\n",
       "    }\n",
       "\n",
       "    .dataframe tbody tr th {\n",
       "        vertical-align: top;\n",
       "    }\n",
       "\n",
       "    .dataframe thead th {\n",
       "        text-align: right;\n",
       "    }\n",
       "</style>\n",
       "<table border=\"1\" class=\"dataframe\">\n",
       "  <thead>\n",
       "    <tr style=\"text-align: right;\">\n",
       "      <th></th>\n",
       "      <th>pixel0</th>\n",
       "      <th>pixel1</th>\n",
       "      <th>pixel2</th>\n",
       "      <th>pixel3</th>\n",
       "      <th>pixel4</th>\n",
       "      <th>pixel5</th>\n",
       "      <th>pixel6</th>\n",
       "      <th>pixel7</th>\n",
       "      <th>pixel8</th>\n",
       "      <th>pixel9</th>\n",
       "      <th>...</th>\n",
       "      <th>pixel774</th>\n",
       "      <th>pixel775</th>\n",
       "      <th>pixel776</th>\n",
       "      <th>pixel777</th>\n",
       "      <th>pixel778</th>\n",
       "      <th>pixel779</th>\n",
       "      <th>pixel780</th>\n",
       "      <th>pixel781</th>\n",
       "      <th>pixel782</th>\n",
       "      <th>pixel783</th>\n",
       "    </tr>\n",
       "  </thead>\n",
       "  <tbody>\n",
       "    <tr>\n",
       "      <th>0</th>\n",
       "      <td>0.0</td>\n",
       "      <td>0.0</td>\n",
       "      <td>0.0</td>\n",
       "      <td>0.0</td>\n",
       "      <td>0.0</td>\n",
       "      <td>0.0</td>\n",
       "      <td>0.0</td>\n",
       "      <td>0.0</td>\n",
       "      <td>0.0</td>\n",
       "      <td>0.0</td>\n",
       "      <td>...</td>\n",
       "      <td>0.0</td>\n",
       "      <td>0.0</td>\n",
       "      <td>0.0</td>\n",
       "      <td>0.0</td>\n",
       "      <td>0.0</td>\n",
       "      <td>0.0</td>\n",
       "      <td>0.0</td>\n",
       "      <td>0.0</td>\n",
       "      <td>0.0</td>\n",
       "      <td>0.0</td>\n",
       "    </tr>\n",
       "    <tr>\n",
       "      <th>1</th>\n",
       "      <td>0.0</td>\n",
       "      <td>0.0</td>\n",
       "      <td>0.0</td>\n",
       "      <td>0.0</td>\n",
       "      <td>0.0</td>\n",
       "      <td>0.0</td>\n",
       "      <td>0.0</td>\n",
       "      <td>0.0</td>\n",
       "      <td>0.0</td>\n",
       "      <td>0.0</td>\n",
       "      <td>...</td>\n",
       "      <td>0.0</td>\n",
       "      <td>0.0</td>\n",
       "      <td>0.0</td>\n",
       "      <td>0.0</td>\n",
       "      <td>0.0</td>\n",
       "      <td>0.0</td>\n",
       "      <td>0.0</td>\n",
       "      <td>0.0</td>\n",
       "      <td>0.0</td>\n",
       "      <td>0.0</td>\n",
       "    </tr>\n",
       "    <tr>\n",
       "      <th>2</th>\n",
       "      <td>0.0</td>\n",
       "      <td>0.0</td>\n",
       "      <td>0.0</td>\n",
       "      <td>0.0</td>\n",
       "      <td>0.0</td>\n",
       "      <td>0.0</td>\n",
       "      <td>0.0</td>\n",
       "      <td>0.0</td>\n",
       "      <td>0.0</td>\n",
       "      <td>0.0</td>\n",
       "      <td>...</td>\n",
       "      <td>0.0</td>\n",
       "      <td>0.0</td>\n",
       "      <td>0.0</td>\n",
       "      <td>0.0</td>\n",
       "      <td>0.0</td>\n",
       "      <td>0.0</td>\n",
       "      <td>0.0</td>\n",
       "      <td>0.0</td>\n",
       "      <td>0.0</td>\n",
       "      <td>0.0</td>\n",
       "    </tr>\n",
       "    <tr>\n",
       "      <th>3</th>\n",
       "      <td>0.0</td>\n",
       "      <td>0.0</td>\n",
       "      <td>0.0</td>\n",
       "      <td>0.0</td>\n",
       "      <td>0.0</td>\n",
       "      <td>0.0</td>\n",
       "      <td>0.0</td>\n",
       "      <td>0.0</td>\n",
       "      <td>0.0</td>\n",
       "      <td>0.0</td>\n",
       "      <td>...</td>\n",
       "      <td>0.0</td>\n",
       "      <td>0.0</td>\n",
       "      <td>0.0</td>\n",
       "      <td>0.0</td>\n",
       "      <td>0.0</td>\n",
       "      <td>0.0</td>\n",
       "      <td>0.0</td>\n",
       "      <td>0.0</td>\n",
       "      <td>0.0</td>\n",
       "      <td>0.0</td>\n",
       "    </tr>\n",
       "    <tr>\n",
       "      <th>4</th>\n",
       "      <td>0.0</td>\n",
       "      <td>0.0</td>\n",
       "      <td>0.0</td>\n",
       "      <td>0.0</td>\n",
       "      <td>0.0</td>\n",
       "      <td>0.0</td>\n",
       "      <td>0.0</td>\n",
       "      <td>0.0</td>\n",
       "      <td>0.0</td>\n",
       "      <td>0.0</td>\n",
       "      <td>...</td>\n",
       "      <td>0.0</td>\n",
       "      <td>0.0</td>\n",
       "      <td>0.0</td>\n",
       "      <td>0.0</td>\n",
       "      <td>0.0</td>\n",
       "      <td>0.0</td>\n",
       "      <td>0.0</td>\n",
       "      <td>0.0</td>\n",
       "      <td>0.0</td>\n",
       "      <td>0.0</td>\n",
       "    </tr>\n",
       "  </tbody>\n",
       "</table>\n",
       "<p>5 rows × 784 columns</p>\n",
       "</div>"
      ],
      "text/plain": [
       "   pixel0  pixel1  pixel2  pixel3  pixel4  pixel5  pixel6  pixel7  pixel8  \\\n",
       "0     0.0     0.0     0.0     0.0     0.0     0.0     0.0     0.0     0.0   \n",
       "1     0.0     0.0     0.0     0.0     0.0     0.0     0.0     0.0     0.0   \n",
       "2     0.0     0.0     0.0     0.0     0.0     0.0     0.0     0.0     0.0   \n",
       "3     0.0     0.0     0.0     0.0     0.0     0.0     0.0     0.0     0.0   \n",
       "4     0.0     0.0     0.0     0.0     0.0     0.0     0.0     0.0     0.0   \n",
       "\n",
       "   pixel9  ...  pixel774  pixel775  pixel776  pixel777  pixel778  pixel779  \\\n",
       "0     0.0  ...       0.0       0.0       0.0       0.0       0.0       0.0   \n",
       "1     0.0  ...       0.0       0.0       0.0       0.0       0.0       0.0   \n",
       "2     0.0  ...       0.0       0.0       0.0       0.0       0.0       0.0   \n",
       "3     0.0  ...       0.0       0.0       0.0       0.0       0.0       0.0   \n",
       "4     0.0  ...       0.0       0.0       0.0       0.0       0.0       0.0   \n",
       "\n",
       "   pixel780  pixel781  pixel782  pixel783  \n",
       "0       0.0       0.0       0.0       0.0  \n",
       "1       0.0       0.0       0.0       0.0  \n",
       "2       0.0       0.0       0.0       0.0  \n",
       "3       0.0       0.0       0.0       0.0  \n",
       "4       0.0       0.0       0.0       0.0  \n",
       "\n",
       "[5 rows x 784 columns]"
      ]
     },
     "execution_count": 11,
     "metadata": {},
     "output_type": "execute_result"
    }
   ],
   "source": [
    "X_train.head()"
   ]
  },
  {
   "cell_type": "code",
   "execution_count": 12,
   "id": "5f5f63f6",
   "metadata": {},
   "outputs": [
    {
     "data": {
      "text/plain": [
       "28.0"
      ]
     },
     "execution_count": 12,
     "metadata": {},
     "output_type": "execute_result"
    }
   ],
   "source": [
    "# pixel size\n",
    "np.sqrt(X_train.shape[1])"
   ]
  },
  {
   "cell_type": "code",
   "execution_count": 13,
   "id": "c27891b9",
   "metadata": {
    "scrolled": false
   },
   "outputs": [
    {
     "data": {
      "image/png": "[encoded data removed]",
      "text/plain": [
       "<Figure size 2200x800 with 18 Axes>"
      ]
     },
     "metadata": {},
     "output_type": "display_data"
    }
   ],
   "source": [
    "height = 28\n",
    "width = 28\n",
    "\n",
    "#displaying random images from the dataset\n",
    "loc_list = np.random.randint(0, X_train.shape[0], 18)\n",
    "\n",
    "fig, axs = plt.subplots(figsize=(22, 8), ncols=9, nrows=2)\n",
    "axs = axs.ravel()\n",
    "\n",
    "for ind, loc in enumerate(loc_list):\n",
    "    chosen_image = X_train.iloc[loc].values\n",
    "    axs[ind].imshow(chosen_image.reshape(height, width))"
   ]
  },
  {
   "cell_type": "code",
   "execution_count": 14,
   "id": "a7c618af",
   "metadata": {},
   "outputs": [],
   "source": [
    "# most of the images look decent to human eye. so, we can proceed with building a Deep Learning model"
   ]
  },
  {
   "cell_type": "markdown",
   "id": "855208d6",
   "metadata": {},
   "source": [
    "# 3) L-Layer NN from scratch"
   ]
  },
  {
   "cell_type": "code",
   "execution_count": 209,
   "id": "970ff74b",
   "metadata": {},
   "outputs": [],
   "source": [
    "import sys\n",
    "sys.path.append('../src/')\n",
    "import deep_learning_algorithm_from_scratch as dl"
   ]
  },
  {
   "cell_type": "markdown",
   "id": "b08e32be",
   "metadata": {},
   "source": [
    "## a) Prepping data"
   ]
  },
  {
   "cell_type": "code",
   "execution_count": 219,
   "id": "83b25196",
   "metadata": {},
   "outputs": [
    {
     "name": "stdout",
     "output_type": "stream",
     "text": [
      "(42000, 784) (42000, 1) (784, 42000) (10, 42000)\n"
     ]
    }
   ],
   "source": [
    "# Transpose X to be of the format (pixels, n_rows)\n",
    "X = X_train.T.values.copy()\n",
    "\n",
    "# Get y in the format (n_classes, n_rows)\n",
    "Y = pd.get_dummies(y_train.label).T.values.copy()\n",
    "\n",
    "print(X_train.shape, y_train.shape, X.shape, Y.shape)"
   ]
  },
  {
   "cell_type": "markdown",
   "id": "049830b9",
   "metadata": {},
   "source": [
    "## b) Initialize Parameters"
   ]
  },
  {
   "cell_type": "code",
   "execution_count": 224,
   "id": "454fd677",
   "metadata": {},
   "outputs": [],
   "source": [
    "# deciding the number of units and number of layers\n",
    "layers_dims = [X.shape[0], 5, 7, 10]\n",
    "# we use He initialization when we have RELU units\n",
    "init_type = 'he_uniform'\n",
    "parameters = dl.initialize_parameters(layers_dims=layers_dims, init_type=init_type)"
   ]
  },
  {
   "cell_type": "markdown",
   "id": "e864e6be",
   "metadata": {},
   "source": [
    "## c) Train L layer Model and get Parameters"
   ]
  },
  {
   "cell_type": "code",
   "execution_count": 225,
   "id": "79348366",
   "metadata": {
    "scrolled": false
   },
   "outputs": [
    {
     "name": "stdout",
     "output_type": "stream",
     "text": [
      "Cost after iteration 0: 10074.819972\n",
      "Cost after iteration 100: 7949.226154\n",
      "Cost after iteration 200: 6982.045865\n",
      "Cost after iteration 300: 6251.568333\n",
      "Cost after iteration 400: 5741.321057\n",
      "Cost after iteration 500: 5371.138966\n",
      "Cost after iteration 600: 5040.774703\n",
      "Cost after iteration 700: 4716.368171\n",
      "Cost after iteration 800: 4402.825424\n",
      "Cost after iteration 900: 4112.216782\n",
      "Cost after iteration 1000: 3856.573848\n",
      "Cost after iteration 1100: 3629.110207\n",
      "Cost after iteration 1200: 3412.352906\n",
      "Cost after iteration 1300: 3210.842864\n",
      "Cost after iteration 1400: 3025.641297\n",
      "Cost after iteration 1500: 2862.611623\n",
      "Cost after iteration 1600: 2724.234348\n",
      "Cost after iteration 1700: 2608.434293\n",
      "Cost after iteration 1800: 2508.540731\n",
      "Cost after iteration 1900: 2419.972853\n"
     ]
    },
    {
     "data": {
      "image/png": "[encoded data removed]",
      "text/plain": [
       "<Figure size 640x480 with 1 Axes>"
      ]
     },
     "metadata": {},
     "output_type": "display_data"
    },
    {
     "name": "stdout",
     "output_type": "stream",
     "text": [
      "CPU times: user 21min 47s, sys: 6min 23s, total: 28min 11s\n",
      "Wall time: 3min 39s\n"
     ]
    }
   ],
   "source": [
    "%%time\n",
    "learning_rate = 0.03\n",
    "num_iterations = 2000\n",
    "parameters = dl.L_layer_model(X, Y, layers_dims, parameters, learning_rate, num_iterations, print_cost=True)"
   ]
  },
  {
   "cell_type": "markdown",
   "id": "10b6a0e3",
   "metadata": {},
   "source": [
    "## d) Get Forward Propagation"
   ]
  },
  {
   "cell_type": "code",
   "execution_count": 226,
   "id": "da326d61",
   "metadata": {},
   "outputs": [
    {
     "name": "stdout",
     "output_type": "stream",
     "text": [
      "(42000,) (42000,)\n"
     ]
    }
   ],
   "source": [
    "pred_train, _ = dl.L_model_forward(X, parameters, layers_dims)\n",
    "\n",
    "Y_true = np.argmax(Y, axis=0)\n",
    "Y_pred = np.argmax(pred_train, axis=0)\n",
    "print(Y_true.shape, Y_pred.shape)"
   ]
  },
  {
   "cell_type": "markdown",
   "id": "44af3536",
   "metadata": {},
   "source": [
    "## e) Calculating Accuracy"
   ]
  },
  {
   "cell_type": "code",
   "execution_count": 227,
   "id": "6cd86528",
   "metadata": {},
   "outputs": [
    {
     "data": {
      "text/plain": [
       "84.64285714285714"
      ]
     },
     "execution_count": 227,
     "metadata": {},
     "output_type": "execute_result"
    }
   ],
   "source": [
    "# we can get a train accuracy of around 84.6%, which is decent for an algorithm from scratch.\n",
    "np.mean(Y_true == Y_pred) * 100"
   ]
  },
  {
   "cell_type": "code",
   "execution_count": null,
   "id": "5f0f7492",
   "metadata": {},
   "outputs": [],
   "source": []
  },
  {
   "cell_type": "code",
   "execution_count": null,
   "id": "b28f216c",
   "metadata": {},
   "outputs": [],
   "source": []
  },
  {
   "cell_type": "code",
   "execution_count": null,
   "id": "09aa67a7",
   "metadata": {},
   "outputs": [],
   "source": []
  },
  {
   "cell_type": "code",
   "execution_count": null,
   "id": "e10c0277",
   "metadata": {},
   "outputs": [],
   "source": []
  },
  {
   "cell_type": "code",
   "execution_count": null,
   "id": "fe5462f0",
   "metadata": {},
   "outputs": [],
   "source": []
  },
  {
   "cell_type": "code",
   "execution_count": null,
   "id": "60e3b091",
   "metadata": {},
   "outputs": [],
   "source": []
  },
  {
   "cell_type": "code",
   "execution_count": null,
   "id": "a262b859",
   "metadata": {},
   "outputs": [],
   "source": []
  },
  {
   "cell_type": "code",
   "execution_count": null,
   "id": "4d4b8a27",
   "metadata": {},
   "outputs": [],
   "source": []
  },
  {
   "cell_type": "code",
   "execution_count": null,
   "id": "ee7d9d19",
   "metadata": {},
   "outputs": [],
   "source": []
  }
 ],
 "metadata": {
  "kernelspec": {
   "display_name": "Python 3 (ipykernel)",
   "language": "python",
   "name": "python3"
  },
  "language_info": {
   "codemirror_mode": {
    "name": "ipython",
    "version": 3
   },
   "file_extension": ".py",
   "mimetype": "text/x-python",
   "name": "python",
   "nbconvert_exporter": "python",
   "pygments_lexer": "ipython3",
   "version": "3.11.1"
  }
 },
 "nbformat": 4,
 "nbformat_minor": 5
}
